{
 "cells": [
  {
   "cell_type": "markdown",
   "metadata": {},
   "source": [
    "# A crash-course in Bayesian statistics"
   ]
  },
  {
   "cell_type": "markdown",
   "metadata": {},
   "source": [
    "Bayes' theorem in often used in science to describe the probability density of a model parameter given some observational data:\n",
    "\n",
    "\\begin{equation}\n",
    "    p(\\theta|x)=\\frac{p(x|\\theta)\\,p(\\theta)}{p(x)}.\n",
    "\\end{equation}\n",
    "\n",
    "Here:\n",
    "\n",
    " - $p(\\theta|x)$ is the <b>posterior probability density</b> of some parameter $\\theta$ given some data $x$.\n",
    " - $p(x|\\theta)$ is the <b>likelihood</b> of $x$ occuring, given $\\theta$.\n",
    " - $p(\\theta)$ is the <b>prior probability density</b> of $\\theta$, i.e. what we think $\\theta$ might be, or how we think the distribution of $\\theta$ may behave.\n",
    " - $p(x)$ is somewhat confusingly called the <b>evidence</b>. It's essentially a normalisation constant so that\n",
    "    \n",
    "\\begin{equation}\n",
    "    \\int\\limits_{\\theta_\\mathrm{min}}^{\\theta_\\mathrm{max}}p(\\theta|x)\\,\\mathrm{d}x\\equiv 1\\,.\n",
    "\\end{equation}"
   ]
  },
  {
   "cell_type": "markdown",
   "metadata": {},
   "source": [
    "## Gaia parallaxes\n",
    "\n",
    "We are going to apply Bayes' theorm to infer stellar distance. However, first we look at the paralaxes.\n",
    "\n",
    "A star in the sky has a \"true\" parallax $\\varpi_\\mathrm{true}$, relative to Earth's orbit, for which Gaia has measured a paral\n",
    "\n",
    "The measured paralaxes $\\varpi$ have errors which are approximately Gaussian with standard deviation $\\sigma_\\varpi$."
   ]
  },
  {
   "cell_type": "code",
   "execution_count": null,
   "metadata": {},
   "outputs": [],
   "source": []
  }
 ],
 "metadata": {
  "kernelspec": {
   "display_name": "Python 3",
   "language": "python",
   "name": "python3"
  },
  "language_info": {
   "codemirror_mode": {
    "name": "ipython",
    "version": 3
   },
   "file_extension": ".py",
   "mimetype": "text/x-python",
   "name": "python",
   "nbconvert_exporter": "python",
   "pygments_lexer": "ipython3",
   "version": "3.6.8"
  }
 },
 "nbformat": 4,
 "nbformat_minor": 2
}

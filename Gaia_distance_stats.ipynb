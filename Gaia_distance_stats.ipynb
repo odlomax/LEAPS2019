{
 "cells": [
  {
   "cell_type": "markdown",
   "metadata": {},
   "source": [
    "# A crash-course in Bayesian statistics"
   ]
  },
  {
   "cell_type": "markdown",
   "metadata": {},
   "source": [
    "Bayes' theorem in often used in science to describe the probability density of a model parameter given some observational data:\n",
    "\n",
    "\\begin{equation}\n",
    "    p(\\theta|x)=\\frac{p(x|\\theta)\\,p(\\theta)}{p(x)}.\n",
    "\\end{equation}\n",
    "\n",
    "Here:\n",
    "\n",
    " - $p(\\theta|x)$ is the <b>posterior probability density</b> of some parameter $\\theta$ given some data $x$.\n",
    " - $p(x|\\theta)$ is the <b>likelihood</b> of $x$ occuring, given $\\theta$.\n",
    " - $p(\\theta)$ is the <b>prior probability density</b> of $\\theta$, i.e. what we think $\\theta$ might be, or how we think the distribution of $\\theta$ may behave.\n",
    " - $p(x)$ is somewhat confusingly called the <b>evidence</b>. It's essentially a normalisation constant so that\n",
    "    \n",
    "\\begin{equation}\n",
    "    \\int\\limits_{\\theta_\\mathrm{min}}^{\\theta_\\mathrm{max}}p(\\theta|x)\\,\\mathrm{d}x\\equiv 1\\,.\n",
    "\\end{equation}"
   ]
  },
  {
   "cell_type": "markdown",
   "metadata": {},
   "source": [
    "## Gaia parallaxes\n",
    "\n",
    "We are going to apply Bayes' theorem to infer stellar distance. However, first we look at the parallaxes.\n",
    "\n",
    "A star in the sky has a \"true\" parallax $\\varpi$, relative to Earth's orbit, for which Gaia has measured a parallax $\\varpi'$ with uncertainty $\\sigma_\\varpi$.\n",
    "\n",
    "If we assume the the measurement uncertainties are Gaussian, and that <i>a priori</i> all values of $\\varpi$ are equally likely ($P(\\varpi)=C$), then\n",
    "\n",
    "\\begin{equation}\n",
    "    p(\\varpi|\\varpi')=\\frac{1}{\\sqrt{2\\pi}\\sigma_\\varpi}\\,\\exp\\left(-\\frac{(\\varpi'-\\varpi)^2}{2\\sigma_\\varpi^2} \\right)\n",
    "\\end{equation}"
   ]
  },
  {
   "cell_type": "markdown",
   "metadata": {},
   "source": [
    "This is a trivial example. We've simply stated best estimate of $\\varpi$ is $\\varpi'$, and the uncertainty is Gaussian with standard deviation $\\sigma_\\varpi$."
   ]
  },
  {
   "cell_type": "markdown",
   "metadata": {},
   "source": [
    "## Gaia distances\n",
    "\n",
    "Things get more complicated when we try an estimate the distance $\\rho=1/\\varpi$. First, we substitute $\\rho$ in the previous equation:\n",
    "\n",
    "\\begin{align}\n",
    "    p(\\rho|\\varpi')&=p(1/\\varpi|\\varpi')\\,\\frac{\\mathrm{d}\\varpi}{\\mathrm{d}\\rho}\\,\\\\\n",
    "    &=\\frac{1}{\\rho^2\\sqrt{2\\pi}\\sigma_\\varpi}\\,\\exp\\left(-\\frac{(\\varpi'-1/\\rho)^2}{2\\sigma_\\varpi^2}\\right)\n",
    "\\end{align}"
   ]
  },
  {
   "cell_type": "code",
   "execution_count": 1,
   "metadata": {},
   "outputs": [],
   "source": [
    "#import modules\n",
    "import numpy as np\n",
    "from matplotlib import pyplot as plt"
   ]
  },
  {
   "cell_type": "code",
   "execution_count": 2,
   "metadata": {},
   "outputs": [],
   "source": [
    "# define rho likelihood\n",
    "def rho_likelihood(rho,pi_prime,sigma_pi):\n",
    "    \n",
    "    \"\"\"\n",
    "    \n",
    "    Function: return likelihood of measured parallax given rho\n",
    "    \n",
    "    Arguments:\n",
    "    \n",
    "        rho: float\n",
    "            distance (pc)\n",
    "            \n",
    "        pi_prime: float\n",
    "            measured parallax (arcsec)\n",
    "            \n",
    "        sigma_pi: float\n",
    "            parallax uncertainty\n",
    "            \n",
    "    Result\n",
    "    \n",
    "        p: float\n",
    "            likelihood\n",
    "    \n",
    "    \"\"\"\n",
    "    \n",
    "    p=np.exp(-(pi_prime-1./rho)**2/(2*sigma_pi**2))/(rho**2*sigma_pi*np.sqrt(2*np.pi))\n",
    "    \n",
    "    return p"
   ]
  },
  {
   "cell_type": "code",
   "execution_count": 3,
   "metadata": {},
   "outputs": [],
   "source": [
    "# define plot function\n",
    "def plot_posterior(rho,likelihood,li_args,prior=None,pr_args=None):\n",
    "    \n",
    "    \"\"\"\n",
    "    \n",
    "    Subroutine: plots posterior pdf\n",
    "    \n",
    "    Arguments:\n",
    "    \n",
    "        rho: float\n",
    "            array of rho values\n",
    "    \n",
    "        likelihood: function\n",
    "            likelihood function of data (li_args) given rho\n",
    "            \n",
    "        li_args: list\n",
    "            list of arguments of likelihood function\n",
    "            \n",
    "        sigma_pi: float\n",
    "            parallax uncertainty\n",
    "            \n",
    "        prior: function\n",
    "            prior distribution of rho\n",
    "            \n",
    "        pr_args: list\n",
    "            list of arguments for prior function\n",
    "    \n",
    "    \"\"\"\n",
    "    \n",
    "    # set posterior values\n",
    "    p=likelihood(rho,*li_args)\n",
    "    \n",
    "    # apply prior\n",
    "    if prior is not None:\n",
    "        p*=prior(rho,*pr_args)\n",
    "        \n",
    "    # normalise p\n",
    "    p/=np.trapz(p,rho)\n",
    "        \n",
    "    # make plot\n",
    "    fig,ax=plt.subplots(1,1)\n",
    "    ax.plot(rho,p)\n",
    "    ax.set_xlabel(\"rho [pc]\")\n",
    "    ax.set_ylabel(\"$p(rho|pi_prime) [pc^-1]\")\n",
    "    \n",
    "    mean=(rho*p).sum()/p.sum()\n",
    "    st_dev=np.sqrt((p*(rho-mean)**2).sum()/p.sum())\n",
    "    \n",
    "    print(mean,st_dev)"
   ]
  },
  {
   "cell_type": "markdown",
   "metadata": {},
   "source": [
    "Let's say we have star in IC348 with a measured parallax $\\varpi'=3.125\\,\\mathrm{mas}$ and uncertainty $\\sigma_\\varpi=0.1\\mathrm{mas}$. The posterior $p(\\rho|\\varpi')$ will look roughly Gaussian:"
   ]
  },
  {
   "cell_type": "code",
   "execution_count": 4,
   "metadata": {},
   "outputs": [
    {
     "name": "stdout",
     "output_type": "stream",
     "text": [
      "420.96506351859676 43.4551714227799\n"
     ]
    },
    {
     "data": {
      "image/png": "[encoded data removed]",
      "text/plain": [
       "<Figure size 432x288 with 1 Axes>"
      ]
     },
     "metadata": {
      "needs_background": "light"
     },
     "output_type": "display_data"
    }
   ],
   "source": [
    "rho=np.linspace(100.,1000.,10000)\n",
    "pi_prime=2.4e-3\n",
    "sigma_pi=2.4e-4\n",
    "plot_posterior(rho,rho_likelihood,[pi_prime,sigma_pi])"
   ]
  },
  {
   "cell_type": "markdown",
   "metadata": {},
   "source": [
    "If we have a larger uncertainty -- say $\\sigma_\\varpi=1.0\\mathrm{mas}$ -- the distribution has a heavy tail:"
   ]
  },
  {
   "cell_type": "code",
   "execution_count": 5,
   "metadata": {},
   "outputs": [
    {
     "name": "stdout",
     "output_type": "stream",
     "text": [
      "441.6523787570991 166.69123326337268\n"
     ]
    },
    {
     "data": {
      "image/png": "[encoded data removed]",
      "text/plain": [
       "<Figure size 432x288 with 1 Axes>"
      ]
     },
     "metadata": {
      "needs_background": "light"
     },
     "output_type": "display_data"
    }
   ],
   "source": [
    "sigma_pi=1.e-3\n",
    "plot_posterior(rho,rho_likelihood,[pi_prime,sigma_pi])"
   ]
  },
  {
   "cell_type": "markdown",
   "metadata": {},
   "source": [
    "Things get a little less intuitive when we find a measured parallax which is negative. Here, there is still a well-defined posterior PDF, however, the function is pathological and does not have a defined mean or variance (or any statistical moments for that matter!)."
   ]
  },
  {
   "cell_type": "code",
   "execution_count": 6,
   "metadata": {},
   "outputs": [
    {
     "name": "stdout",
     "output_type": "stream",
     "text": [
      "710.9994192800916 170.91743731367845\n"
     ]
    },
    {
     "data": {
      "image/png": "[encoded data removed]",
      "text/plain": [
       "<Figure size 432x288 with 1 Axes>"
      ]
     },
     "metadata": {
      "needs_background": "light"
     },
     "output_type": "display_data"
    }
   ],
   "source": [
    "pi_prime=-1.e-4\n",
    "plot_posterior(rho,rho_likelihood,[pi_prime,sigma_pi])"
   ]
  },
  {
   "cell_type": "markdown",
   "metadata": {},
   "source": [
    "This pathological behaviour is not necessarily the nightmare it first appears. We can solve the problem using a well defined prior probability density distribution. Let's say that we <i>reckon</i> that our source is in a cluster 315 pc away, and we <i>reckon</i> that cluster has a radius of order 10 pc. We can use this to define a Gaussian prior PDF for $\\rho$:"
   ]
  },
  {
   "cell_type": "code",
   "execution_count": 7,
   "metadata": {},
   "outputs": [],
   "source": [
    "def rho_prior(rho,mu_rho,sigma_rho):\n",
    "    \n",
    "    \"\"\"\n",
    "    \n",
    "    Function: return prior probaility density of rho\n",
    "    \n",
    "    Arguments:\n",
    "    \n",
    "        rho: float\n",
    "            array of rho values\n",
    "            \n",
    "        mu_rho: float\n",
    "            mean value of rho\n",
    "            \n",
    "        sigma_rho: float\n",
    "            standard deviation of rho\n",
    "            \n",
    "    Result:\n",
    "    \n",
    "        p: float\n",
    "            prior distribution of rho\n",
    "    \n",
    "    \"\"\"\n",
    "    \n",
    "    p=np.exp(-(rho-mu_rho)**2/(2*sigma_rho**2))/(sigma_rho*np.sqrt(2*np.pi))\n",
    "    \n",
    "    return p"
   ]
  },
  {
   "cell_type": "markdown",
   "metadata": {},
   "source": [
    "Now we can compute the posterior PDF of a target with a negative $\\varpi'$:"
   ]
  },
  {
   "cell_type": "code",
   "execution_count": 8,
   "metadata": {},
   "outputs": [
    {
     "name": "stdout",
     "output_type": "stream",
     "text": [
      "317.6085008087124 9.860946606202967\n"
     ]
    },
    {
     "data": {
      "image/png": "[encoded data removed]",
      "text/plain": [
       "<Figure size 432x288 with 1 Axes>"
      ]
     },
     "metadata": {
      "needs_background": "light"
     },
     "output_type": "display_data"
    }
   ],
   "source": [
    "mu_rho=315.\n",
    "sigma_rho=10.\n",
    "plot_posterior(rho,rho_likelihood,[pi_prime,sigma_pi],rho_prior,[mu_rho,sigma_rho])"
   ]
  },
  {
   "cell_type": "markdown",
   "metadata": {},
   "source": [
    "Now we have a<i>well behaved</i> posterior PDF, albeit one which is dominated by the prior PDF. In this case, the data doesn't tell us anything new, but it doesn't <i>break</i> our analysis either. "
   ]
  },
  {
   "cell_type": "markdown",
   "metadata": {},
   "source": [
    "## Pseudo-random number generation from an arbitrary PDF\n",
    "\n",
    "Let's say that we want to randomly sample numbers from the above PDF (or indeed any strictly non-negative function). This can be performed by noting that:\n",
    "\\begin{equation}\n",
    "    \\frac{\\int\\limits_{x_\\mathrm{min}}^{X}f(x)\\,\\mathrm{d}x}{\\int\\limits_{x_\\mathrm{min}}^{x_\\mathrm{max}}f(x)\\,\\mathrm{d}x}=\\mathcal{R};\\quad x_\\mathrm{min}\\leq X\\leq x_\\mathrm{max},\n",
    "\\end{equation}\n",
    "where $X$ is a random variate from $f(x)$ and $\\mathcal{R}$ is a random variate from the uniform distribution in the interval $[0,1]$. This can be difficult to invert analytically if $f(x)$ is complicated, but it is easy to compute numerically for most functions:"
   ]
  },
  {
   "cell_type": "code",
   "execution_count": 9,
   "metadata": {},
   "outputs": [],
   "source": [
    "def cum_dist(f_x,x):\n",
    "    \n",
    "    \"\"\"\n",
    "    \n",
    "        Function: numerically compute the cumulative distribution of g_x\n",
    "        \n",
    "        Arguments:\n",
    "            f_x: float\n",
    "                sampled f(x) values\n",
    "                \n",
    "            x: float\n",
    "                x sampling points\n",
    "    \n",
    "        Result:\n",
    "            F_x: float\n",
    "                cumulative distribution of f(x)\n",
    "                note: F_x[0] is by definition zero, and F_x[-1] is the \n",
    "                integral of f_x over the range defined by x\n",
    "                \n",
    "    \"\"\"\n",
    "    \n",
    "    # initialise F_x\n",
    "    F_x=np.zeros(f_x.shape,dtype=np.float)\n",
    "    \n",
    "    # compute trapezoidal cumulative distribution \n",
    "    F_x[1:]=np.cumsum(0.5*(f_x[1:]+f_x[:-1])*(x[1:]-x[:-1]))\n",
    "    \n",
    "    return F_x\n",
    "\n",
    "def pdf_random(f_x,x,n):\n",
    "\n",
    "    \"\"\"\n",
    "    \n",
    "    Function: returns random numbers drawn from f_x\n",
    "    \n",
    "    Arguments:\n",
    "            f_x: float\n",
    "                sampled f(x) values\n",
    "                \n",
    "            x: float\n",
    "                x sampling points\n",
    "                \n",
    "            n: int\n",
    "                number of random numbers to return\n",
    "    \n",
    "        Result:\n",
    "        \n",
    "            X: float\n",
    "                array of random numbers\n",
    "    \n",
    "    \"\"\"\n",
    "    \n",
    "    # get F_x\n",
    "    F_x=cum_dist(f_x,x)\n",
    "    \n",
    "    # normalise F_x\n",
    "    F_x/=F_x[-1]\n",
    "    \n",
    "    # get array of uniform random numbers\n",
    "    R=np.random.random(n)\n",
    "    \n",
    "    # invert (by linear interpolation) F_x to get X\n",
    "    X=np.interp(R,F_x,x)\n",
    "    \n",
    "    return X"
   ]
  },
  {
   "cell_type": "code",
   "execution_count": 10,
   "metadata": {},
   "outputs": [
    {
     "name": "stdout",
     "output_type": "stream",
     "text": [
      "[311.95120563 296.97624144 311.15725319 ... 313.17222942 326.99274922\n",
      " 311.16694953]\n",
      "317.5739489105802 9.814192134077262\n"
     ]
    }
   ],
   "source": [
    "f_rho=rho_likelihood(rho,pi_prime,sigma_pi)*rho_prior(rho,mu_rho,sigma_rho)\n",
    "Rho=pdf_random(f_rho,rho,100000)\n",
    "\n",
    "print(Rho)\n",
    "print(Rho.mean(),Rho.std())\n",
    "\n",
    "# note that these values are approximately equal to those generated directly from the distribution!"
   ]
  },
  {
   "cell_type": "code",
   "execution_count": null,
   "metadata": {},
   "outputs": [],
   "source": []
  }
 ],
 "metadata": {
  "kernelspec": {
   "display_name": "Python 3",
   "language": "python",
   "name": "python3"
  },
  "language_info": {
   "codemirror_mode": {
    "name": "ipython",
    "version": 3
   },
   "file_extension": ".py",
   "mimetype": "text/x-python",
   "name": "python",
   "nbconvert_exporter": "python",
   "pygments_lexer": "ipython3",
   "version": "3.6.8"
  }
 },
 "nbformat": 4,
 "nbformat_minor": 2
}

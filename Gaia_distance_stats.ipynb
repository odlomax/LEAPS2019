{
 "cells": [
  {
   "cell_type": "markdown",
   "metadata": {},
   "source": [
    "# A crash-course in Bayesian statistics"
   ]
  },
  {
   "cell_type": "markdown",
   "metadata": {},
   "source": [
    "Bayes' theorem in often used in science to describe the probability density of a model parameter given some observational data:\n",
    "\n",
    "\\begin{equation}\n",
    "    p(\\theta|x)=\\frac{p(x|\\theta)\\,p(\\theta)}{p(x)}.\n",
    "\\end{equation}\n",
    "\n",
    "Here:\n",
    "\n",
    " - $p(\\theta|x)$ is the <b>posterior probability density</b> of some parameter $\\theta$ given some data $x$.\n",
    " - $p(x|\\theta)$ is the <b>likelihood</b> of $x$ occuring, given $\\theta$.\n",
    " - $p(\\theta)$ is the <b>prior probability density</b> of $\\theta$, i.e. what we think $\\theta$ might be, or how we think the distribution of $\\theta$ may behave.\n",
    " - $p(x)$ is somewhat confusingly called the <b>evidence</b>. It's essentially a normalisation constant so that\n",
    "    \n",
    "\\begin{equation}\n",
    "    \\int\\limits_{\\theta_\\mathrm{min}}^{\\theta_\\mathrm{max}}p(\\theta|x)\\,\\mathrm{d}x\\equiv 1\\,.\n",
    "\\end{equation}"
   ]
  },
  {
   "cell_type": "markdown",
   "metadata": {},
   "source": [
    "## Gaia parallaxes\n",
    "\n",
    "We are going to apply Bayes' theorem to infer stellar distance. However, first we look at the parallaxes.\n",
    "\n",
    "A star in the sky has a \"true\" parallax $\\varpi$, relative to Earth's orbit, for which Gaia has measured a parallax $\\varpi'$ with uncertainty $\\sigma_\\varpi$.\n",
    "\n",
    "If we assume the the measurement uncertainties are Gaussian, and that <i>a priori</i> all values of $\\varpi$ are equally likely ($P(\\varpi)=C$), then\n",
    "\n",
    "\\begin{equation}\n",
    "    p(\\varpi|\\varpi')=\\frac{1}{\\sqrt{2\\pi}\\sigma_\\varpi}\\,\\exp\\left(-\\frac{(\\varpi'-\\varpi)^2}{2\\sigma_\\varpi^2} \\right)\n",
    "\\end{equation}"
   ]
  },
  {
   "cell_type": "markdown",
   "metadata": {},
   "source": [
    "This is a trivial example. We've simply stated best estimate of $\\varpi$ is $\\varpi'$, and the uncertainty is Gaussian with standard deviation $\\sigma_\\varpi$."
   ]
  },
  {
   "cell_type": "markdown",
   "metadata": {},
   "source": [
    "## Gaia distances\n",
    "\n",
    "Things get more complicated when we try an estimate the distance $\\rho=1/\\varpi$. First, we substitute $\\rho$ in the previous equation:\n",
    "\n",
    "\\begin{align}\n",
    "    p(\\rho|\\varpi')&=p(1/\\varpi|\\varpi')\\,\\frac{\\mathrm{d}\\varpi}{\\mathrm{d}\\rho}\\,\\\\\n",
    "    &=\\frac{1}{\\rho^2\\sqrt{2\\pi}\\sigma_\\varpi}\\,\\exp\\left(-\\frac{(\\varpi'-1/\\rho)^2}{2\\sigma_\\varpi^2}\\right)\n",
    "\\end{align}"
   ]
  },
  {
   "cell_type": "code",
   "execution_count": 1,
   "metadata": {},
   "outputs": [],
   "source": [
    "#import modules\n",
    "import numpy as np\n",
    "from matplotlib import pyplot as plt"
   ]
  },
  {
   "cell_type": "code",
   "execution_count": 2,
   "metadata": {},
   "outputs": [],
   "source": [
    "# define rho likelihood\n",
    "def rho_likelihood(rho,pi_prime,sigma_pi):\n",
    "    \n",
    "    \"\"\"\n",
    "    \n",
    "    Function: return likelihood of measured parallax given rho\n",
    "    \n",
    "    Arguments:\n",
    "    \n",
    "        rho: float\n",
    "            distance (pc)\n",
    "            \n",
    "        pi_prime: float\n",
    "            measured parallax (arcsec)\n",
    "            \n",
    "        sigma_pi: float\n",
    "            parallax uncertainty\n",
    "            \n",
    "    Result\n",
    "    \n",
    "        p: float\n",
    "            likelihood\n",
    "    \n",
    "    \"\"\"\n",
    "    \n",
    "    p=np.exp(-(pi_prime-1./rho)**2/(2*sigma_pi**2))/(rho**2*sigma_pi*np.sqrt(2*np.pi))\n",
    "    \n",
    "    return p"
   ]
  },
  {
   "cell_type": "code",
   "execution_count": 3,
   "metadata": {},
   "outputs": [],
   "source": [
    "# define plot function\n",
    "def plot_posterior(likelihood,rho,pi_prime,sigma_pi,prior=None):\n",
    "    \n",
    "    \"\"\"\n",
    "    \n",
    "    Subroutine: plots posterior pdf\n",
    "    \n",
    "    Arguments:\n",
    "    \n",
    "        likelihood: function\n",
    "            likelihood function of pi_prime given rho\n",
    "            \n",
    "        rho: float\n",
    "            array of distances\n",
    "            \n",
    "        pi_prime: float\n",
    "            measured parallax\n",
    "            \n",
    "        sigma_pi: float\n",
    "            parallax uncertainty\n",
    "            \n",
    "        prior: function\n",
    "            prior distribution of rho\n",
    "    \n",
    "    \"\"\"\n",
    "    \n",
    "    # set posterior values\n",
    "    p=likelihood(rho,pi_prime,sigma_pi)\n",
    "    \n",
    "    # apply prior\n",
    "    if prior is not None:\n",
    "        p*=prior(rho)\n",
    "        \n",
    "    # normalise p\n",
    "    p/=np.trapz(p,rho)\n",
    "        \n",
    "    # make plot\n",
    "    fig,ax=plt.subplots(1,1)\n",
    "    ax.plot(rho,p)\n",
    "    ax.set_xlabel(\"rho [pc]\")\n",
    "    ax.set_ylabel(\"$p(rho|pi_prime) [pc^-1]\")\n",
    "    \n",
    "    mean=(rho*p).sum()/p.sum()\n",
    "    st_dev=np.sqrt((p*(rho-mean)**2).sum()/p.sum())\n",
    "    \n",
    "    print(mean,st_dev)"
   ]
  },
  {
   "cell_type": "markdown",
   "metadata": {},
   "source": [
    "Let's say we have star in IC348 with a measured parallax $\\varpi'=3.125\\,\\mathrm{mas}$ and uncertainty $\\sigma_\\varpi=0.1\\mathrm{mas}$. The posterior $p(\\rho|\\varpi')$ will look roughly Gaussian:"
   ]
  },
  {
   "cell_type": "code",
   "execution_count": 4,
   "metadata": {},
   "outputs": [
    {
     "name": "stdout",
     "output_type": "stream",
     "text": [
      "320.32869182420876 10.282230274187855\n"
     ]
    },
    {
     "data": {
      "image/png": "[encoded data removed]",
      "text/plain": [
       "<Figure size 432x288 with 1 Axes>"
      ]
     },
     "metadata": {
      "needs_background": "light"
     },
     "output_type": "display_data"
    }
   ],
   "source": [
    "rho=np.linspace(100.,1000.,10000)\n",
    "pi_prime=3.125e-3\n",
    "sigma_pi=1.e-4\n",
    "plot_posterior(rho_likelihood,rho,pi_prime,sigma_pi)"
   ]
  },
  {
   "cell_type": "markdown",
   "metadata": {},
   "source": [
    "If we have a larger uncertainty -- say $\\sigma_\\varpi=1.0\\mathrm{mas}$ -- the distribution has a heavy tail:"
   ]
  },
  {
   "cell_type": "code",
   "execution_count": 5,
   "metadata": {},
   "outputs": [
    {
     "name": "stdout",
     "output_type": "stream",
     "text": [
      "351.4464714585023 131.0990355617768\n"
     ]
    },
    {
     "data": {
      "image/png": "[encoded data removed]",
      "text/plain": [
       "<Figure size 432x288 with 1 Axes>"
      ]
     },
     "metadata": {
      "needs_background": "light"
     },
     "output_type": "display_data"
    }
   ],
   "source": [
    "sigma_pi=1.e-3\n",
    "plot_posterior(rho_likelihood,rho,pi_prime,sigma_pi)"
   ]
  }
 ],
 "metadata": {
  "kernelspec": {
   "display_name": "Python 3",
   "language": "python",
   "name": "python3"
  },
  "language_info": {
   "codemirror_mode": {
    "name": "ipython",
    "version": 3
   },
   "file_extension": ".py",
   "mimetype": "text/x-python",
   "name": "python",
   "nbconvert_exporter": "python",
   "pygments_lexer": "ipython3",
   "version": "3.6.8"
  }
 },
 "nbformat": 4,
 "nbformat_minor": 2
}

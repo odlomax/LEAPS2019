{
 "cells": [
  {
   "cell_type": "code",
   "execution_count": 4,
   "metadata": {},
   "outputs": [],
   "source": [
    "\n",
    "import numpy as np\n",
    "import matplotlib.pyplot as plt\n",
    "\n",
    "\n",
    "def cluster_list(name):\n",
    "    data = np.loadtxt('Cluster_Memberships.txt',usecols=(2,3),delimiter='&')\n",
    "    cluster = np.loadtxt('Cluster_Memberships.txt',usecols=0,delimiter='&',dtype=str)\n",
    "\n",
    "    index = (cluster =='%s '%name)\n",
    "    key_stars=data[index]\n",
    "\n",
    "    np.savetxt('%s_Member_List.txt'%name,key_stars)\n",
    "\n",
    "\n",
    "def find_dimensions(stars):\n",
    "    stars_transpose = stars.T\n",
    "    max_RA = np.amax(stars_transpose[0])\n",
    "    min_RA = np.amin(stars_transpose[0])\n",
    "    max_Dec = np.amax(stars_transpose[1])\n",
    "    min_Dec = np.amin(stars_transpose[1])\n",
    "    return min_RA, max_RA, min_Dec, max_Dec\n",
    "\n",
    "\n",
    "cluster_list('IC348')\n",
    "\n",
    "star_coord = np.loadtxt('IC348_Member_List.txt')\n",
    "#print(find_dimensions(star_coord))\n",
    "'''\n",
    "def box_around_stars():\n",
    "'''\n",
    "\n",
    "def gaia_data(stars):\n",
    "    import astropy.units as u\n",
    "    from astropy.coordinates.sky_coordinate import SkyCoord\n",
    "    from astropy.units import Quantity\n",
    "    from astroquery.gaia import Gaia\n",
    "    from astroquery.gaia import Gaia\n",
    "    tables = Gaia.load_tables(only_names=True)\n",
    "    for table in (tables):\n",
    "        print (table.get_qualified_name())\n",
    "\n",
    "#gaia_data(star_coord)"
   ]
  }
 ],
 "metadata": {
  "kernelspec": {
   "display_name": "Python 3",
   "language": "python",
   "name": "python3"
  },
  "language_info": {
   "codemirror_mode": {
    "name": "ipython",
    "version": 3
   },
   "file_extension": ".py",
   "mimetype": "text/x-python",
   "name": "python",
   "nbconvert_exporter": "python",
   "pygments_lexer": "ipython3",
   "version": "3.5.2"
  }
 },
 "nbformat": 4,
 "nbformat_minor": 2
}

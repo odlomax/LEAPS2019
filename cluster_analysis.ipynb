{
 "cells": [
  {
   "cell_type": "code",
   "execution_count": 41,
   "metadata": {
    "scrolled": false
   },
   "outputs": [
    {
     "name": "stderr",
     "output_type": "stream",
     "text": [
      "/home/dmichali/Environments/python/jupnb/lib/python3.5/site-packages/ipykernel_launcher.py:8: ParserWarning: Falling back to the 'python' engine because the 'c' engine does not support regex separators (separators > 1 char and different from '\\s+' are interpreted as regex); you can avoid this warning by specifying engine='python'.\n",
      "  \n"
     ]
    }
   ],
   "source": [
    "import pandas as pd\n",
    "import numpy as np\n",
    "import matplotlib.pyplot as plt\n",
    "\n",
    "\n",
    "def cluster_list(name):\n",
    "    colnames=['region', 'desig', 'ra', 'dec', 'flag', 'ME', 'J', 'H', 'alpha_IRAC', 'logL_X', 'Age_JX', 'Clus'] \n",
    "    data = pd.read_csv('Cluster_Memberships.txt',delimiter='\\s+&\\+*', header=None, names=colnames)\n",
    "    selected_cluster = data[data['region'] == name]\n",
    "    assert(len(selected_cluster) == 396)\n",
    "    return selected_cluster\n",
    "\n",
    "\n",
    "def find_dimensions(stars):\n",
    "    max_RA = stars['ra'].max()\n",
    "    min_RA = stars['ra'].min()\n",
    "    max_Dec = stars['dec'].max()\n",
    "    min_Dec = stars['dec'].min()\n",
    "    return min_RA, max_RA, min_Dec, max_Dec\n",
    "\n",
    "stars = cluster_list('IC348')\n",
    "find_dimensions(stars)\n",
    "\n",
    "#star_coord = np.loadtxt('IC348_Member_List.txt')\n",
    "#print(find_dimensions(star_coord))\n",
    "'''\n",
    "def box_around_stars():\n",
    "'''\n",
    "\n",
    "def gaia_data(stars):\n",
    "    import astropy.units as u\n",
    "    from astropy.coordinates.sky_coordinate import SkyCoord\n",
    "    from astropy.units import Quantity\n",
    "    from astroquery.gaia import Gaia\n",
    "    from astroquery.gaia import Gaia\n",
    "    tables = Gaia.load_tables(only_names=True)\n",
    "    for table in (tables):\n",
    "        print (table.get_qualified_name())\n",
    "\n",
    "#gaia_data(star_coord)"
   ]
  },
  {
   "cell_type": "code",
   "execution_count": null,
   "metadata": {},
   "outputs": [],
   "source": []
  }
 ],
 "metadata": {
  "kernelspec": {
   "display_name": "Python 3",
   "language": "python",
   "name": "python3"
  },
  "language_info": {
   "codemirror_mode": {
    "name": "ipython",
    "version": 3
   },
   "file_extension": ".py",
   "mimetype": "text/x-python",
   "name": "python",
   "nbconvert_exporter": "python",
   "pygments_lexer": "ipython3",
   "version": "3.5.2"
  }
 },
 "nbformat": 4,
 "nbformat_minor": 2
}
